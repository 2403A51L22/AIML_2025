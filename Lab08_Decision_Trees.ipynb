{
  "cells": [
    {
      "cell_type": "markdown",
      "metadata": {
        "id": "view-in-github",
        "colab_type": "text"
      },
      "source": [
        "<a href=\"https://colab.research.google.com/github/2403A51L22/AIML_2025/blob/main/Lab08_Decision_Trees.ipynb\" target=\"_parent\"><img src=\"https://colab.research.google.com/assets/colab-badge.svg\" alt=\"Open In Colab\"/></a>"
      ]
    },
    {
      "cell_type": "markdown",
      "id": "7c5ba4fe",
      "metadata": {
        "id": "7c5ba4fe"
      },
      "source": [
        "<a name='0'></a>\n",
        "# 8. Decision Trees - Classification"
      ]
    },
    {
      "cell_type": "markdown",
      "id": "07494ffb",
      "metadata": {
        "id": "07494ffb"
      },
      "source": [
        "Decision Trees are supervised machine learning algorithms that are used for both regression and classification tasks. Trees are powerful algorithms that can handle complex datasets.\n",
        "\n",
        "In the previous notebook, we learnt to predict the continous values with decision trees (regression). This notebook is for classification.\n",
        "\n",
        "Different to other algorithms, here are two things that trees are very particular about:\n",
        "\n",
        "Here are 7 interesting facts about decision trees:\n",
        "\n",
        "* They do not need the numerical input data to be scaled. Whatever the numerical values are, decision trees don't care.\n",
        "\n",
        "* Decision trees handle categorical features in the raw text format (Scikit-Learn doesn't support this, TensorFlow's trees implementation does).\n",
        "\n",
        "* Different to other complex learning algorithms, the results of decision trees can be interpreted. It's fair to say that decision trees are not blackbox type models.\n",
        "* While most models will suffer from missing values, decision trees are okay with them.\n",
        "* Trees can handle imbalanced datasets. You will only have to adjust the weights of the classes.\n",
        "* Trees can provide the feature importances or how much each feature contributed to the model training results.\n",
        "* Trees are the basic building blocks of ensemble methods such as random forests and gradient boosting machines.\n",
        "\n",
        "The way decision trees works is like the series of if/else questions. Let's say that you want to make a decision of the car to buy. In order to get the right car to buy, you could go on and evaluate the level of the safety, the number of sits and doors by asking series of if like questions.\n",
        "\n",
        "Here is the structure of the decision trees.\n",
        "\n",
        "##(https://cdn.hashnode.com/res/hashnode/image/upload/v1632212349927/4XijLSXib.png)\n",
        "![DT-Iris.png](attachment:41fd68f8-cfa9-40b0-9ba7-3a853d2edbef.png)\n",
        "\n",
        "A well-known downside of decision trees is that they tend to overfit the data easily(pretty much assumed they will always overfit at first). One way to overcome overfitting is to reduce the maximum depth of the decision tree (refered to as `max_depth`hyperparameter) in decision trees. We will see other techniques to avoid overfitting."
      ]
    },
    {
      "cell_type": "markdown",
      "id": "d4e2c5a6",
      "metadata": {
        "id": "d4e2c5a6"
      },
      "source": [
        "## Decision Trees for Classification"
      ]
    },
    {
      "cell_type": "markdown",
      "id": "ae5e8372",
      "metadata": {
        "id": "ae5e8372"
      },
      "source": [
        "### Contents\n",
        "\n",
        "* [1 - Imports](#1)\n",
        "* [2 - Loading the data](#2)\n",
        "* [3 - Exploratory Analysis](#3)\n",
        "* [4 - Preprocessing the data](#4)\n",
        "* [5 - Training Decision Trees](#5)\n",
        "* [6 - Evaluating Decision Trees](#6)\n",
        "* [7 - Improving Decision Trees](#7)"
      ]
    },
    {
      "cell_type": "markdown",
      "id": "99058d12",
      "metadata": {
        "id": "99058d12"
      },
      "source": [
        "<a name='1'></a>\n",
        "## 1 - Import the libraries"
      ]
    },
    {
      "cell_type": "code",
      "execution_count": null,
      "id": "df278c5f",
      "metadata": {
        "id": "df278c5f",
        "jupyter": {
          "is_executing": true
        }
      },
      "outputs": [],
      "source": [
        "import numpy as np\n",
        "import pandas as pd\n",
        "import seaborn as sns\n",
        "import sklearn\n",
        "import matplotlib.pyplot as plt\n",
        "%matplotlib inline"
      ]
    },
    {
      "cell_type": "markdown",
      "id": "35699c38",
      "metadata": {
        "id": "35699c38"
      },
      "source": [
        "<a name='2'></a>\n",
        "\n",
        "## 2 - Loading the data\n",
        "\n",
        "In this classification task with decision trees, we will use a car dataset that is avilable at [OpenML](https://www.openml.org/d/21) to predict the car acceptability given the information about the car. We will load it with Sklearn `fetch_openml` function.\n",
        "\n",
        "The version of the data we are fetching is 2. In the version 1 of the dataset, the target class had 4 classes (unacc, acc, good, vgood) but in the second version, the majority class is Positive(P) whereas the rest are Negative(P). If you want to see version 1, you can change version parameter in a cell below.\n",
        "\n",
        "\n",
        "Here are the informations about the features:\n",
        "\n",
        "* *buying*: The buying price of the car(vhigh, high, med, low)\n",
        "* maint: The maintainance price of the car(high, high, med, low)\n",
        "* *doors*: The number of doors (2,3,4,5more)\n",
        "* *persons*: The number of persons that can be carried the car. They are 2, 4, and more.\n",
        "* *lug_boot*: The size of the luggage boot (small, med, big)\n",
        "* *safety*: Estimated safefy of the car(low, med, high)\n",
        "* *BinaryClass(target feature)*: The car acceptability class. Either positive(P) or negative(N).\n"
      ]
    },
    {
      "cell_type": "code",
      "execution_count": null,
      "id": "d3083946",
      "metadata": {
        "id": "d3083946",
        "jupyter": {
          "is_executing": true
        }
      },
      "outputs": [],
      "source": [
        "from sklearn.datasets import fetch_openml\n",
        "car_data = fetch_openml(name='car', version=2, parser='auto')"
      ]
    },
    {
      "cell_type": "code",
      "execution_count": null,
      "id": "46c09852",
      "metadata": {
        "id": "46c09852",
        "jupyter": {
          "is_executing": true
        },
        "outputId": "cbf7a97a-7dc6-471e-fea4-b8a5ad18b580"
      },
      "outputs": [
        {
          "data": {
            "text/plain": [
              "sklearn.utils._bunch.Bunch"
            ]
          },
          "execution_count": 23,
          "metadata": {},
          "output_type": "execute_result"
        }
      ],
      "source": [
        "type(car_data)"
      ]
    },
    {
      "cell_type": "code",
      "execution_count": null,
      "id": "154ed67e",
      "metadata": {
        "id": "154ed67e",
        "jupyter": {
          "is_executing": true
        },
        "outputId": "53865f9d-39aa-4d39-fe72-0556c3a8919a"
      },
      "outputs": [
        {
          "data": {
            "text/plain": [
              "{'id': '991',\n",
              " 'name': 'car',\n",
              " 'version': '2',\n",
              " 'description_version': '1',\n",
              " 'format': 'ARFF',\n",
              " 'upload_date': '2014-10-04T22:44:31',\n",
              " 'licence': 'Public',\n",
              " 'url': 'https://api.openml.org/data/v1/download/53525/car.arff',\n",
              " 'parquet_url': 'https://openml1.win.tue.nl/datasets/0000/0991/dataset_991.pq',\n",
              " 'file_id': '53525',\n",
              " 'default_target_attribute': 'binaryClass',\n",
              " 'tag': ['Chemistry',\n",
              "  'derived',\n",
              "  'Life Science',\n",
              "  'mythbusting_1',\n",
              "  'study_1',\n",
              "  'study_15',\n",
              "  'study_20',\n",
              "  'study_41',\n",
              "  'study_7'],\n",
              " 'visibility': 'public',\n",
              " 'minio_url': 'https://openml1.win.tue.nl/datasets/0000/0991/dataset_991.pq',\n",
              " 'status': 'active',\n",
              " 'processing_date': '2020-11-20 20:17:54',\n",
              " 'md5_checksum': '49c57b793eef1b8e55f297e5e019fdbf'}"
            ]
          },
          "execution_count": 24,
          "metadata": {},
          "output_type": "execute_result"
        }
      ],
      "source": [
        "car_data.details"
      ]
    },
    {
      "cell_type": "code",
      "execution_count": null,
      "id": "d93da4ad",
      "metadata": {
        "id": "d93da4ad",
        "jupyter": {
          "is_executing": true
        },
        "outputId": "be501bb1-dcbf-44c5-86e5-d71b5d39536e"
      },
      "outputs": [
        {
          "data": {
            "text/plain": [
              "'2'"
            ]
          },
          "execution_count": 25,
          "metadata": {},
          "output_type": "execute_result"
        }
      ],
      "source": [
        "car_data.details['version']"
      ]
    },
    {
      "cell_type": "code",
      "execution_count": null,
      "id": "69e438fb",
      "metadata": {
        "id": "69e438fb",
        "jupyter": {
          "is_executing": true
        },
        "outputId": "9eda874a-73e2-4b58-db59-3461a403c1a4"
      },
      "outputs": [
        {
          "name": "stdout",
          "output_type": "stream",
          "text": [
            "**Author**:   \n",
            "**Source**: Unknown - Date unknown  \n",
            "**Please cite**:   \n",
            "\n",
            "Binarized version of the original data set (see version 1). The multi-class target feature is converted to a two-class nominal target feature by re-labeling the majority class as positive ('P') and all others as negative ('N'). Originally converted by Quan Sun.\n",
            "\n",
            "Downloaded from openml.org.\n"
          ]
        }
      ],
      "source": [
        "# Data description\n",
        "\n",
        "print(car_data.DESCR)"
      ]
    },
    {
      "cell_type": "code",
      "execution_count": null,
      "id": "d7180991",
      "metadata": {
        "id": "d7180991",
        "outputId": "e53774fa-b693-4acc-ca49-7109e9c403be"
      },
      "outputs": [
        {
          "data": {
            "text/plain": [
              "['buying', 'maint', 'doors', 'persons', 'lug_boot', 'safety']"
            ]
          },
          "execution_count": 27,
          "metadata": {},
          "output_type": "execute_result"
        }
      ],
      "source": [
        "# Displaying feature names\n",
        "\n",
        "car_data.feature_names"
      ]
    },
    {
      "cell_type": "code",
      "execution_count": null,
      "id": "e3ba092e",
      "metadata": {
        "id": "e3ba092e",
        "outputId": "fbec6d90-ffc4-4623-e935-d20f805590e9"
      },
      "outputs": [
        {
          "data": {
            "text/html": [
              "<div>\n",
              "<style scoped>\n",
              "    .dataframe tbody tr th:only-of-type {\n",
              "        vertical-align: middle;\n",
              "    }\n",
              "\n",
              "    .dataframe tbody tr th {\n",
              "        vertical-align: top;\n",
              "    }\n",
              "\n",
              "    .dataframe thead th {\n",
              "        text-align: right;\n",
              "    }\n",
              "</style>\n",
              "<table border=\"1\" class=\"dataframe\">\n",
              "  <thead>\n",
              "    <tr style=\"text-align: right;\">\n",
              "      <th></th>\n",
              "      <th>buying</th>\n",
              "      <th>maint</th>\n",
              "      <th>doors</th>\n",
              "      <th>persons</th>\n",
              "      <th>lug_boot</th>\n",
              "      <th>safety</th>\n",
              "      <th>binaryClass</th>\n",
              "    </tr>\n",
              "  </thead>\n",
              "  <tbody>\n",
              "    <tr>\n",
              "      <th>0</th>\n",
              "      <td>vhigh</td>\n",
              "      <td>vhigh</td>\n",
              "      <td>2</td>\n",
              "      <td>2</td>\n",
              "      <td>small</td>\n",
              "      <td>low</td>\n",
              "      <td>P</td>\n",
              "    </tr>\n",
              "    <tr>\n",
              "      <th>1</th>\n",
              "      <td>vhigh</td>\n",
              "      <td>vhigh</td>\n",
              "      <td>2</td>\n",
              "      <td>2</td>\n",
              "      <td>small</td>\n",
              "      <td>med</td>\n",
              "      <td>P</td>\n",
              "    </tr>\n",
              "    <tr>\n",
              "      <th>2</th>\n",
              "      <td>vhigh</td>\n",
              "      <td>vhigh</td>\n",
              "      <td>2</td>\n",
              "      <td>2</td>\n",
              "      <td>small</td>\n",
              "      <td>high</td>\n",
              "      <td>P</td>\n",
              "    </tr>\n",
              "    <tr>\n",
              "      <th>3</th>\n",
              "      <td>vhigh</td>\n",
              "      <td>vhigh</td>\n",
              "      <td>2</td>\n",
              "      <td>2</td>\n",
              "      <td>med</td>\n",
              "      <td>low</td>\n",
              "      <td>P</td>\n",
              "    </tr>\n",
              "    <tr>\n",
              "      <th>4</th>\n",
              "      <td>vhigh</td>\n",
              "      <td>vhigh</td>\n",
              "      <td>2</td>\n",
              "      <td>2</td>\n",
              "      <td>med</td>\n",
              "      <td>med</td>\n",
              "      <td>P</td>\n",
              "    </tr>\n",
              "  </tbody>\n",
              "</table>\n",
              "</div>"
            ],
            "text/plain": [
              "  buying  maint doors persons lug_boot safety binaryClass\n",
              "0  vhigh  vhigh     2       2    small    low           P\n",
              "1  vhigh  vhigh     2       2    small    med           P\n",
              "2  vhigh  vhigh     2       2    small   high           P\n",
              "3  vhigh  vhigh     2       2      med    low           P\n",
              "4  vhigh  vhigh     2       2      med    med           P"
            ]
          },
          "execution_count": 28,
          "metadata": {},
          "output_type": "execute_result"
        }
      ],
      "source": [
        "# Getting the whole dataframe\n",
        "\n",
        "car_data = car_data.frame\n",
        "car_data.head()"
      ]
    },
    {
      "cell_type": "code",
      "execution_count": null,
      "id": "2f05b049",
      "metadata": {
        "id": "2f05b049",
        "outputId": "af51271f-1a5a-4cf7-f18d-2d0eb7d52772"
      },
      "outputs": [
        {
          "data": {
            "text/plain": [
              "pandas.core.frame.DataFrame"
            ]
          },
          "execution_count": 29,
          "metadata": {},
          "output_type": "execute_result"
        }
      ],
      "source": [
        "type(car_data)"
      ]
    },
    {
      "cell_type": "markdown",
      "id": "c492fd93",
      "metadata": {
        "id": "c492fd93"
      },
      "source": [
        "<a name='3'></a>\n",
        "## 3 - Exploratory Analysis\n"
      ]
    },
    {
      "cell_type": "markdown",
      "id": "e9906083",
      "metadata": {
        "id": "e9906083"
      },
      "source": [
        "Before doing exploratory analysis, let's get the training and test data."
      ]
    },
    {
      "cell_type": "markdown",
      "id": "dff2de1d",
      "metadata": {
        "id": "dff2de1d"
      },
      "source": [
        "### Splitting Data into Training and Test sets"
      ]
    },
    {
      "cell_type": "code",
      "execution_count": null,
      "id": "98d74144",
      "metadata": {
        "id": "98d74144",
        "outputId": "0c2c589c-7abd-4ab2-b0ac-2b752231421e"
      },
      "outputs": [
        {
          "name": "stdout",
          "output_type": "stream",
          "text": [
            "The size of training data is: 1209 The size of testing data is: 519\n"
          ]
        }
      ],
      "source": [
        "from sklearn.model_selection import train_test_split\n",
        "\n",
        "train_data, test_data = train_test_split(car_data, test_size=0.3,\n",
        "                                         random_state=20)\n",
        "\n",
        "print('The size of training data is: {} The size of testing data is: {}'.format(len(train_data),len(test_data)))"
      ]
    },
    {
      "cell_type": "markdown",
      "id": "ab1127e7",
      "metadata": {
        "id": "ab1127e7"
      },
      "source": [
        "### Checking Summary Statistics"
      ]
    },
    {
      "cell_type": "code",
      "execution_count": null,
      "id": "753bb539",
      "metadata": {
        "id": "753bb539",
        "outputId": "33cb8584-89c6-41d6-af0e-a17b17b19347"
      },
      "outputs": [
        {
          "data": {
            "text/html": [
              "<div>\n",
              "<style scoped>\n",
              "    .dataframe tbody tr th:only-of-type {\n",
              "        vertical-align: middle;\n",
              "    }\n",
              "\n",
              "    .dataframe tbody tr th {\n",
              "        vertical-align: top;\n",
              "    }\n",
              "\n",
              "    .dataframe thead th {\n",
              "        text-align: right;\n",
              "    }\n",
              "</style>\n",
              "<table border=\"1\" class=\"dataframe\">\n",
              "  <thead>\n",
              "    <tr style=\"text-align: right;\">\n",
              "      <th></th>\n",
              "      <th>buying</th>\n",
              "      <th>maint</th>\n",
              "      <th>doors</th>\n",
              "      <th>persons</th>\n",
              "      <th>lug_boot</th>\n",
              "      <th>safety</th>\n",
              "      <th>binaryClass</th>\n",
              "    </tr>\n",
              "  </thead>\n",
              "  <tbody>\n",
              "    <tr>\n",
              "      <th>count</th>\n",
              "      <td>1209</td>\n",
              "      <td>1209</td>\n",
              "      <td>1209</td>\n",
              "      <td>1209</td>\n",
              "      <td>1209</td>\n",
              "      <td>1209</td>\n",
              "      <td>1209</td>\n",
              "    </tr>\n",
              "    <tr>\n",
              "      <th>unique</th>\n",
              "      <td>4</td>\n",
              "      <td>4</td>\n",
              "      <td>4</td>\n",
              "      <td>3</td>\n",
              "      <td>3</td>\n",
              "      <td>3</td>\n",
              "      <td>2</td>\n",
              "    </tr>\n",
              "    <tr>\n",
              "      <th>top</th>\n",
              "      <td>med</td>\n",
              "      <td>high</td>\n",
              "      <td>5more</td>\n",
              "      <td>more</td>\n",
              "      <td>big</td>\n",
              "      <td>med</td>\n",
              "      <td>P</td>\n",
              "    </tr>\n",
              "    <tr>\n",
              "      <th>freq</th>\n",
              "      <td>327</td>\n",
              "      <td>311</td>\n",
              "      <td>319</td>\n",
              "      <td>418</td>\n",
              "      <td>411</td>\n",
              "      <td>406</td>\n",
              "      <td>849</td>\n",
              "    </tr>\n",
              "  </tbody>\n",
              "</table>\n",
              "</div>"
            ],
            "text/plain": [
              "       buying maint  doors persons lug_boot safety binaryClass\n",
              "count    1209  1209   1209    1209     1209   1209        1209\n",
              "unique      4     4      4       3        3      3           2\n",
              "top       med  high  5more    more      big    med           P\n",
              "freq      327   311    319     418      411    406         849"
            ]
          },
          "execution_count": 31,
          "metadata": {},
          "output_type": "execute_result"
        }
      ],
      "source": [
        "# Checking summary statistics\n",
        "\n",
        "train_data.describe()"
      ]
    },
    {
      "cell_type": "markdown",
      "id": "dd6e747c",
      "metadata": {
        "id": "dd6e747c"
      },
      "source": [
        "### Checking Missing Values"
      ]
    },
    {
      "cell_type": "code",
      "execution_count": null,
      "id": "f0e4fb67",
      "metadata": {
        "id": "f0e4fb67",
        "outputId": "0c51ac8b-ae6a-4124-f979-63e9ae9d9c6f"
      },
      "outputs": [
        {
          "data": {
            "text/plain": [
              "buying         0\n",
              "maint          0\n",
              "doors          0\n",
              "persons        0\n",
              "lug_boot       0\n",
              "safety         0\n",
              "binaryClass    0\n",
              "dtype: int64"
            ]
          },
          "execution_count": 32,
          "metadata": {},
          "output_type": "execute_result"
        }
      ],
      "source": [
        "# Checking missing values\n",
        "train_data.isnull().sum()"
      ]
    },
    {
      "cell_type": "markdown",
      "id": "4977a1a1",
      "metadata": {
        "id": "4977a1a1"
      },
      "source": [
        "We don't have any missing values."
      ]
    },
    {
      "cell_type": "markdown",
      "id": "5da8fe66",
      "metadata": {
        "id": "5da8fe66"
      },
      "source": [
        "### Checking Categorical Features"
      ]
    },
    {
      "cell_type": "markdown",
      "id": "ff90081a",
      "metadata": {
        "id": "ff90081a"
      },
      "source": [
        "Let's inspect some categorical features that are in the\n",
        "<br>dataset, almost all . Let's see that!"
      ]
    },
    {
      "cell_type": "code",
      "execution_count": null,
      "id": "7c5e465c",
      "metadata": {
        "id": "7c5e465c",
        "outputId": "92501440-ec27-4f2a-bfd6-af3471fdb22b"
      },
      "outputs": [
        {
          "data": {
            "text/plain": [
              "buying\n",
              "med      327\n",
              "high     307\n",
              "vhigh    291\n",
              "low      284\n",
              "Name: count, dtype: int64"
            ]
          },
          "execution_count": 33,
          "metadata": {},
          "output_type": "execute_result"
        }
      ],
      "source": [
        "train_data['buying'].value_counts()"
      ]
    },
    {
      "cell_type": "code",
      "execution_count": null,
      "id": "20c2bde6",
      "metadata": {
        "id": "20c2bde6",
        "outputId": "18898589-fb51-4eaa-c1b5-59a192b7fb7e"
      },
      "outputs": [
        {
          "data": {
            "text/plain": [
              "maint\n",
              "high     311\n",
              "med      311\n",
              "vhigh    294\n",
              "low      293\n",
              "Name: count, dtype: int64"
            ]
          },
          "execution_count": 34,
          "metadata": {},
          "output_type": "execute_result"
        }
      ],
      "source": [
        "train_data['maint'].value_counts()"
      ]
    },
    {
      "cell_type": "code",
      "execution_count": null,
      "id": "029946b7",
      "metadata": {
        "id": "029946b7",
        "outputId": "68be1e8d-841c-4e0a-d799-55af857bd4bc"
      },
      "outputs": [
        {
          "data": {
            "text/plain": [
              "doors\n",
              "5more    319\n",
              "2        312\n",
              "4        296\n",
              "3        282\n",
              "Name: count, dtype: int64"
            ]
          },
          "execution_count": 35,
          "metadata": {},
          "output_type": "execute_result"
        }
      ],
      "source": [
        "train_data['doors'].value_counts()"
      ]
    },
    {
      "cell_type": "code",
      "execution_count": null,
      "id": "e53ec2fa",
      "metadata": {
        "id": "e53ec2fa",
        "outputId": "72b61e91-1dfe-4c31-fc82-cc5177f2acce"
      },
      "outputs": [
        {
          "data": {
            "text/plain": [
              "persons\n",
              "more    418\n",
              "2       407\n",
              "4       384\n",
              "Name: count, dtype: int64"
            ]
          },
          "execution_count": 36,
          "metadata": {},
          "output_type": "execute_result"
        }
      ],
      "source": [
        "train_data['persons'].value_counts()"
      ]
    },
    {
      "cell_type": "code",
      "execution_count": null,
      "id": "d88aefd8",
      "metadata": {
        "id": "d88aefd8",
        "outputId": "8e03f5b4-eb18-437c-e4dc-7f5d0e941e2b"
      },
      "outputs": [
        {
          "data": {
            "text/plain": [
              "<Axes: xlabel='buying', ylabel='count'>"
            ]
          },
          "execution_count": 46,
          "metadata": {},
          "output_type": "execute_result"
        },
        {
          "data": {
            "image/png": "[encoded data removed]",
            "text/plain": [
              "<Figure size 400x200 with 1 Axes>"
            ]
          },
          "metadata": {},
          "output_type": "display_data"
        }
      ],
      "source": [
        "import matplotlib.pyplot as plt\n",
        "plt.figure(figsize=(4,2))\n",
        "sns.countplot(data=train_data, x='buying')"
      ]
    },
    {
      "cell_type": "code",
      "execution_count": null,
      "id": "83d9f295",
      "metadata": {
        "id": "83d9f295",
        "outputId": "9a03c9c1-3cfe-4d9c-ce51-82b108e0fd6d"
      },
      "outputs": [
        {
          "data": {
            "text/plain": [
              "<Axes: xlabel='buying', ylabel='count'>"
            ]
          },
          "execution_count": 47,
          "metadata": {},
          "output_type": "execute_result"
        },
        {
          "data": {
            "image/png": "[encoded data removed]",
            "text/plain": [
              "<Figure size 500x400 with 1 Axes>"
            ]
          },
          "metadata": {},
          "output_type": "display_data"
        }
      ],
      "source": [
        "plt.figure(figsize=(5,4))\n",
        "sns.countplot(data=train_data, x='buying', hue='binaryClass')"
      ]
    },
    {
      "cell_type": "markdown",
      "id": "2a986c09",
      "metadata": {
        "id": "2a986c09"
      },
      "source": [
        "As you can see above, the majority class in the buying price is median(`med`)."
      ]
    },
    {
      "cell_type": "code",
      "execution_count": null,
      "id": "dc1eadb0",
      "metadata": {
        "id": "dc1eadb0",
        "outputId": "8b6d2765-0003-4091-ea77-ea338513331a"
      },
      "outputs": [
        {
          "data": {
            "text/plain": [
              "maint\n",
              "high     311\n",
              "med      311\n",
              "vhigh    294\n",
              "low      293\n",
              "Name: count, dtype: int64"
            ]
          },
          "execution_count": 48,
          "metadata": {},
          "output_type": "execute_result"
        }
      ],
      "source": [
        "train_data['maint'].value_counts()"
      ]
    },
    {
      "cell_type": "code",
      "execution_count": null,
      "id": "433c25f4",
      "metadata": {
        "id": "433c25f4",
        "outputId": "349dc2de-93c3-4cff-b6eb-deadc1ad2f20"
      },
      "outputs": [
        {
          "data": {
            "text/plain": [
              "<Axes: xlabel='maint', ylabel='count'>"
            ]
          },
          "execution_count": 127,
          "metadata": {},
          "output_type": "execute_result"
        },
        {
          "data": {
            "image/png": "[encoded data removed]",
            "text/plain": [
              "<Figure size 300x400 with 1 Axes>"
            ]
          },
          "metadata": {},
          "output_type": "display_data"
        }
      ],
      "source": [
        "plt.figure(figsize=(3,4))\n",
        "sns.countplot(data=train_data, x='maint')"
      ]
    },
    {
      "cell_type": "code",
      "execution_count": null,
      "id": "110b9abd",
      "metadata": {
        "id": "110b9abd",
        "outputId": "aeea7d08-d8a3-4b6c-d41c-1f573ccaa4c7"
      },
      "outputs": [
        {
          "data": {
            "text/plain": [
              "<Axes: xlabel='maint', ylabel='count'>"
            ]
          },
          "execution_count": 128,
          "metadata": {},
          "output_type": "execute_result"
        },
        {
          "data": {
            "image/png": "[encoded data removed]",
            "text/plain": [
              "<Figure size 500x400 with 1 Axes>"
            ]
          },
          "metadata": {},
          "output_type": "display_data"
        }
      ],
      "source": [
        "plt.figure(figsize=(5,4))\n",
        "sns.countplot(data=train_data, x='maint', hue='binaryClass')"
      ]
    },
    {
      "cell_type": "markdown",
      "id": "b1b2c63b",
      "metadata": {
        "id": "b1b2c63b"
      },
      "source": [
        "Let's also check what's in doors."
      ]
    },
    {
      "cell_type": "code",
      "execution_count": null,
      "id": "4298a48f",
      "metadata": {
        "id": "4298a48f",
        "outputId": "d96b04c6-adfc-44cb-dd45-444ed227f128"
      },
      "outputs": [
        {
          "data": {
            "text/plain": [
              "doors\n",
              "5more    319\n",
              "2        312\n",
              "4        296\n",
              "3        282\n",
              "Name: count, dtype: int64"
            ]
          },
          "execution_count": 129,
          "metadata": {},
          "output_type": "execute_result"
        }
      ],
      "source": [
        "train_data['doors'].value_counts()"
      ]
    },
    {
      "cell_type": "code",
      "execution_count": null,
      "id": "477a5113",
      "metadata": {
        "id": "477a5113",
        "outputId": "9573a2c5-a467-4ea2-d114-dd121cc04374"
      },
      "outputs": [
        {
          "data": {
            "text/plain": [
              "<Axes: xlabel='doors', ylabel='count'>"
            ]
          },
          "execution_count": 130,
          "metadata": {},
          "output_type": "execute_result"
        },
        {
          "data": {
            "image/png": "[encoded data removed]",
            "text/plain": [
              "<Figure size 300x400 with 1 Axes>"
            ]
          },
          "metadata": {},
          "output_type": "display_data"
        }
      ],
      "source": [
        "plt.figure(figsize=(3,4))\n",
        "sns.countplot(data=train_data, x='doors')"
      ]
    },
    {
      "cell_type": "code",
      "execution_count": null,
      "id": "f77d35bd",
      "metadata": {
        "id": "f77d35bd",
        "outputId": "23ffce85-0c89-4f39-93e2-8f9419495650"
      },
      "outputs": [
        {
          "data": {
            "text/plain": [
              "<Axes: xlabel='doors', ylabel='count'>"
            ]
          },
          "execution_count": 131,
          "metadata": {},
          "output_type": "execute_result"
        },
        {
          "data": {
            "image/png": "[encoded data removed]",
            "text/plain": [
              "<Figure size 500x400 with 1 Axes>"
            ]
          },
          "metadata": {},
          "output_type": "display_data"
        }
      ],
      "source": [
        "plt.figure(figsize=(5,4))\n",
        "sns.countplot(data=train_data, x='doors', hue='binaryClass')"
      ]
    },
    {
      "cell_type": "markdown",
      "id": "1a9ae2a9",
      "metadata": {
        "id": "1a9ae2a9"
      },
      "source": [
        "Nothing stunning in the maintenance cost. All cars share the same maintenance costs."
      ]
    },
    {
      "cell_type": "code",
      "execution_count": null,
      "id": "7dc9bb1f",
      "metadata": {
        "id": "7dc9bb1f",
        "outputId": "395f7c8b-20e0-435b-d7c8-522ab2b2464d"
      },
      "outputs": [
        {
          "data": {
            "text/plain": [
              "persons\n",
              "more    418\n",
              "2       407\n",
              "4       384\n",
              "Name: count, dtype: int64"
            ]
          },
          "execution_count": 132,
          "metadata": {},
          "output_type": "execute_result"
        }
      ],
      "source": [
        "train_data['persons'].value_counts()"
      ]
    },
    {
      "cell_type": "code",
      "execution_count": null,
      "id": "0965bc7e",
      "metadata": {
        "id": "0965bc7e",
        "outputId": "bdad2618-29af-444d-9867-453f233c1f98"
      },
      "outputs": [
        {
          "data": {
            "text/plain": [
              "<Axes: xlabel='persons', ylabel='count'>"
            ]
          },
          "execution_count": 133,
          "metadata": {},
          "output_type": "execute_result"
        },
        {
          "data": {
            "image/png": "[encoded data removed]",
            "text/plain": [
              "<Figure size 500x400 with 1 Axes>"
            ]
          },
          "metadata": {},
          "output_type": "display_data"
        }
      ],
      "source": [
        "plt.figure(figsize=(5,4))\n",
        "sns.countplot(data=train_data, x='persons', hue='binaryClass')"
      ]
    },
    {
      "cell_type": "code",
      "execution_count": null,
      "id": "f8fbe08a",
      "metadata": {
        "id": "f8fbe08a",
        "outputId": "df8ac953-3a3e-40ea-c083-b457995578ed"
      },
      "outputs": [
        {
          "data": {
            "text/plain": [
              "lug_boot\n",
              "big      411\n",
              "med      405\n",
              "small    393\n",
              "Name: count, dtype: int64"
            ]
          },
          "execution_count": 134,
          "metadata": {},
          "output_type": "execute_result"
        }
      ],
      "source": [
        "train_data['lug_boot'].value_counts()"
      ]
    },
    {
      "cell_type": "code",
      "execution_count": null,
      "id": "d7e678ef",
      "metadata": {
        "id": "d7e678ef",
        "outputId": "eff94264-1968-4bcb-9fc1-fac182117d67"
      },
      "outputs": [
        {
          "data": {
            "text/plain": [
              "<Axes: xlabel='lug_boot', ylabel='count'>"
            ]
          },
          "execution_count": 135,
          "metadata": {},
          "output_type": "execute_result"
        },
        {
          "data": {
            "image/png": "[encoded data removed]",
            "text/plain": [
              "<Figure size 500x400 with 1 Axes>"
            ]
          },
          "metadata": {},
          "output_type": "display_data"
        }
      ],
      "source": [
        "plt.figure(figsize=(5,4))\n",
        "sns.countplot(data=train_data, x='lug_boot', hue='binaryClass')"
      ]
    },
    {
      "cell_type": "code",
      "execution_count": null,
      "id": "b645aa70",
      "metadata": {
        "id": "b645aa70",
        "outputId": "6059c677-93eb-418a-f8d6-5cceafeeff77"
      },
      "outputs": [
        {
          "data": {
            "text/plain": [
              "safety\n",
              "med     406\n",
              "low     402\n",
              "high    401\n",
              "Name: count, dtype: int64"
            ]
          },
          "execution_count": 136,
          "metadata": {},
          "output_type": "execute_result"
        }
      ],
      "source": [
        "train_data['safety'].value_counts()"
      ]
    },
    {
      "cell_type": "code",
      "execution_count": null,
      "id": "0bf059e9",
      "metadata": {
        "id": "0bf059e9",
        "outputId": "8ee18149-1e6c-4d66-d320-291ecd24a75a"
      },
      "outputs": [
        {
          "data": {
            "text/plain": [
              "<Axes: xlabel='safety', ylabel='count'>"
            ]
          },
          "execution_count": 137,
          "metadata": {},
          "output_type": "execute_result"
        },
        {
          "data": {
            "image/png": "[encoded data removed]",
            "text/plain": [
              "<Figure size 500x400 with 1 Axes>"
            ]
          },
          "metadata": {},
          "output_type": "display_data"
        }
      ],
      "source": [
        "plt.figure(figsize=(5,4))\n",
        "sns.countplot(data=train_data, x='safety', hue='binaryClass')"
      ]
    },
    {
      "cell_type": "code",
      "execution_count": null,
      "id": "f978b550",
      "metadata": {
        "id": "f978b550",
        "outputId": "5489586d-b08a-433e-c33c-11a1112d50eb"
      },
      "outputs": [
        {
          "data": {
            "text/plain": [
              "binaryClass\n",
              "P    849\n",
              "N    360\n",
              "Name: count, dtype: int64"
            ]
          },
          "execution_count": 138,
          "metadata": {},
          "output_type": "execute_result"
        }
      ],
      "source": [
        "train_data['binaryClass'].value_counts()"
      ]
    },
    {
      "cell_type": "code",
      "execution_count": null,
      "id": "7c7b7048",
      "metadata": {
        "id": "7c7b7048",
        "outputId": "0f7cdfcf-3f34-4803-ff14-17f74c632a41"
      },
      "outputs": [
        {
          "data": {
            "text/plain": [
              "<Axes: xlabel='binaryClass', ylabel='count'>"
            ]
          },
          "execution_count": 139,
          "metadata": {},
          "output_type": "execute_result"
        },
        {
          "data": {
            "image/png": "[encoded data removed]",
            "text/plain": [
              "<Figure size 100x200 with 1 Axes>"
            ]
          },
          "metadata": {},
          "output_type": "display_data"
        }
      ],
      "source": [
        "plt.figure(figsize=(1,2))\n",
        "sns.countplot(data=train_data, x='binaryClass')"
      ]
    },
    {
      "cell_type": "markdown",
      "id": "341e0ea8",
      "metadata": {
        "id": "341e0ea8"
      },
      "source": [
        "As you can see, our data is completely skewed/imbalanced. The positive examples are 2x more than negative examples.\n",
        "\n",
        "So we will remember during the model evaluation that accuracy is not the right metric in this case. Real world datasets comes with their unique blends, dataset can be imbalanced. Missing values can be present. We just have to find the effective way to deal with those issues. So again for evaluation, we will not rely on accuracy."
      ]
    },
    {
      "cell_type": "markdown",
      "id": "e6733727",
      "metadata": {
        "id": "e6733727"
      },
      "source": [
        "<a name='4'></a>\n",
        "\n",
        "## 4 - Data Preprocessing\n",
        "\n",
        "It is here that we prepare the data to be in the proper format for the machine learning model.\n",
        "\n",
        "### Handling Categorical Features\n",
        "\n",
        "Decision trees don't care if the features are scaled or not, and they can handle the categorical features. There is a [note on documentation](https://scikit-learn.org/stable/modules/tree.html#tree) that the sklearn tree implementation doesn't support categorical features, so I will go ahead and handle them. It's fun anyways :)"
      ]
    },
    {
      "cell_type": "markdown",
      "id": "9517b46f",
      "metadata": {
        "id": "9517b46f"
      },
      "source": [
        "Before handling categorical features, let's create a training input data and labels."
      ]
    },
    {
      "cell_type": "code",
      "execution_count": null,
      "id": "0766b45b",
      "metadata": {
        "id": "0766b45b"
      },
      "outputs": [],
      "source": [
        "car_train = train_data.drop('binaryClass', axis=1)\n",
        "car_labels = train_data[['binaryClass']]"
      ]
    },
    {
      "cell_type": "markdown",
      "id": "0768adae",
      "metadata": {
        "id": "0768adae"
      },
      "source": [
        "Let's create a pipeline to encode all features in the training input data."
      ]
    },
    {
      "cell_type": "code",
      "execution_count": null,
      "id": "b7ee6d06",
      "metadata": {
        "id": "b7ee6d06"
      },
      "outputs": [],
      "source": [
        "from sklearn.preprocessing import OrdinalEncoder\n",
        "\n",
        "from sklearn.pipeline import Pipeline\n",
        "\n",
        "pipe = Pipeline([('ord_enc', OrdinalEncoder())])\n",
        "\n",
        "car_train_prepared = pipe.fit_transform(car_train)"
      ]
    },
    {
      "cell_type": "markdown",
      "id": "dc414f79",
      "metadata": {
        "id": "dc414f79"
      },
      "source": [
        "Let's also handle labels. Labels contain P and N, <br>so we want to convert those into numbers. Here instead of using Ordinary Encoder,<br> we will use Label Encoder. Sklearn is explicity that it is used to encode target features."
      ]
    },
    {
      "cell_type": "code",
      "execution_count": null,
      "id": "b691edf1",
      "metadata": {
        "id": "b691edf1"
      },
      "outputs": [],
      "source": [
        "from sklearn.preprocessing import LabelEncoder\n",
        "\n",
        "label_enc = LabelEncoder()\n",
        "\n",
        "car_labels_prepared = label_enc.fit_transform(car_labels)"
      ]
    },
    {
      "cell_type": "markdown",
      "id": "dd496de6",
      "metadata": {
        "id": "dd496de6"
      },
      "source": [
        "<a name='5'></a>\n",
        "\n",
        "## 5 - Training Decision Tree Classifier\n"
      ]
    },
    {
      "cell_type": "code",
      "execution_count": null,
      "id": "8311b87a",
      "metadata": {
        "id": "8311b87a",
        "outputId": "1446d7ca-5f81-4adf-c1cf-13fd33b3a0aa"
      },
      "outputs": [
        {
          "data": {
            "text/html": [
              "<style>#sk-container-id-5 {\n",
              "  /* Definition of color scheme common for light and dark mode */\n",
              "  --sklearn-color-text: black;\n",
              "  --sklearn-color-line: gray;\n",
              "  /* Definition of color scheme for unfitted estimators */\n",
              "  --sklearn-color-unfitted-level-0: #fff5e6;\n",
              "  --sklearn-color-unfitted-level-1: #f6e4d2;\n",
              "  --sklearn-color-unfitted-level-2: #ffe0b3;\n",
              "  --sklearn-color-unfitted-level-3: chocolate;\n",
              "  /* Definition of color scheme for fitted estimators */\n",
              "  --sklearn-color-fitted-level-0: #f0f8ff;\n",
              "  --sklearn-color-fitted-level-1: #d4ebff;\n",
              "  --sklearn-color-fitted-level-2: #b3dbfd;\n",
              "  --sklearn-color-fitted-level-3: cornflowerblue;\n",
              "\n",
              "  /* Specific color for light theme */\n",
              "  --sklearn-color-text-on-default-background: var(--sg-text-color, var(--theme-code-foreground, var(--jp-content-font-color1, black)));\n",
              "  --sklearn-color-background: var(--sg-background-color, var(--theme-background, var(--jp-layout-color0, white)));\n",
              "  --sklearn-color-border-box: var(--sg-text-color, var(--theme-code-foreground, var(--jp-content-font-color1, black)));\n",
              "  --sklearn-color-icon: #696969;\n",
              "\n",
              "  @media (prefers-color-scheme: dark) {\n",
              "    /* Redefinition of color scheme for dark theme */\n",
              "    --sklearn-color-text-on-default-background: var(--sg-text-color, var(--theme-code-foreground, var(--jp-content-font-color1, white)));\n",
              "    --sklearn-color-background: var(--sg-background-color, var(--theme-background, var(--jp-layout-color0, #111)));\n",
              "    --sklearn-color-border-box: var(--sg-text-color, var(--theme-code-foreground, var(--jp-content-font-color1, white)));\n",
              "    --sklearn-color-icon: #878787;\n",
              "  }\n",
              "}\n",
              "\n",
              "#sk-container-id-5 {\n",
              "  color: var(--sklearn-color-text);\n",
              "}\n",
              "\n",
              "#sk-container-id-5 pre {\n",
              "  padding: 0;\n",
              "}\n",
              "\n",
              "#sk-container-id-5 input.sk-hidden--visually {\n",
              "  border: 0;\n",
              "  clip: rect(1px 1px 1px 1px);\n",
              "  clip: rect(1px, 1px, 1px, 1px);\n",
              "  height: 1px;\n",
              "  margin: -1px;\n",
              "  overflow: hidden;\n",
              "  padding: 0;\n",
              "  position: absolute;\n",
              "  width: 1px;\n",
              "}\n",
              "\n",
              "#sk-container-id-5 div.sk-dashed-wrapped {\n",
              "  border: 1px dashed var(--sklearn-color-line);\n",
              "  margin: 0 0.4em 0.5em 0.4em;\n",
              "  box-sizing: border-box;\n",
              "  padding-bottom: 0.4em;\n",
              "  background-color: var(--sklearn-color-background);\n",
              "}\n",
              "\n",
              "#sk-container-id-5 div.sk-container {\n",
              "  /* jupyter's `normalize.less` sets `[hidden] { display: none; }`\n",
              "     but bootstrap.min.css set `[hidden] { display: none !important; }`\n",
              "     so we also need the `!important` here to be able to override the\n",
              "     default hidden behavior on the sphinx rendered scikit-learn.org.\n",
              "     See: https://github.com/scikit-learn/scikit-learn/issues/21755 */\n",
              "  display: inline-block !important;\n",
              "  position: relative;\n",
              "}\n",
              "\n",
              "#sk-container-id-5 div.sk-text-repr-fallback {\n",
              "  display: none;\n",
              "}\n",
              "\n",
              "div.sk-parallel-item,\n",
              "div.sk-serial,\n",
              "div.sk-item {\n",
              "  /* draw centered vertical line to link estimators */\n",
              "  background-image: linear-gradient(var(--sklearn-color-text-on-default-background), var(--sklearn-color-text-on-default-background));\n",
              "  background-size: 2px 100%;\n",
              "  background-repeat: no-repeat;\n",
              "  background-position: center center;\n",
              "}\n",
              "\n",
              "/* Parallel-specific style estimator block */\n",
              "\n",
              "#sk-container-id-5 div.sk-parallel-item::after {\n",
              "  content: \"\";\n",
              "  width: 100%;\n",
              "  border-bottom: 2px solid var(--sklearn-color-text-on-default-background);\n",
              "  flex-grow: 1;\n",
              "}\n",
              "\n",
              "#sk-container-id-5 div.sk-parallel {\n",
              "  display: flex;\n",
              "  align-items: stretch;\n",
              "  justify-content: center;\n",
              "  background-color: var(--sklearn-color-background);\n",
              "  position: relative;\n",
              "}\n",
              "\n",
              "#sk-container-id-5 div.sk-parallel-item {\n",
              "  display: flex;\n",
              "  flex-direction: column;\n",
              "}\n",
              "\n",
              "#sk-container-id-5 div.sk-parallel-item:first-child::after {\n",
              "  align-self: flex-end;\n",
              "  width: 50%;\n",
              "}\n",
              "\n",
              "#sk-container-id-5 div.sk-parallel-item:last-child::after {\n",
              "  align-self: flex-start;\n",
              "  width: 50%;\n",
              "}\n",
              "\n",
              "#sk-container-id-5 div.sk-parallel-item:only-child::after {\n",
              "  width: 0;\n",
              "}\n",
              "\n",
              "/* Serial-specific style estimator block */\n",
              "\n",
              "#sk-container-id-5 div.sk-serial {\n",
              "  display: flex;\n",
              "  flex-direction: column;\n",
              "  align-items: center;\n",
              "  background-color: var(--sklearn-color-background);\n",
              "  padding-right: 1em;\n",
              "  padding-left: 1em;\n",
              "}\n",
              "\n",
              "\n",
              "/* Toggleable style: style used for estimator/Pipeline/ColumnTransformer box that is\n",
              "clickable and can be expanded/collapsed.\n",
              "- Pipeline and ColumnTransformer use this feature and define the default style\n",
              "- Estimators will overwrite some part of the style using the `sk-estimator` class\n",
              "*/\n",
              "\n",
              "/* Pipeline and ColumnTransformer style (default) */\n",
              "\n",
              "#sk-container-id-5 div.sk-toggleable {\n",
              "  /* Default theme specific background. It is overwritten whether we have a\n",
              "  specific estimator or a Pipeline/ColumnTransformer */\n",
              "  background-color: var(--sklearn-color-background);\n",
              "}\n",
              "\n",
              "/* Toggleable label */\n",
              "#sk-container-id-5 label.sk-toggleable__label {\n",
              "  cursor: pointer;\n",
              "  display: block;\n",
              "  width: 100%;\n",
              "  margin-bottom: 0;\n",
              "  padding: 0.5em;\n",
              "  box-sizing: border-box;\n",
              "  text-align: center;\n",
              "}\n",
              "\n",
              "#sk-container-id-5 label.sk-toggleable__label-arrow:before {\n",
              "  /* Arrow on the left of the label */\n",
              "  content: \"▸\";\n",
              "  float: left;\n",
              "  margin-right: 0.25em;\n",
              "  color: var(--sklearn-color-icon);\n",
              "}\n",
              "\n",
              "#sk-container-id-5 label.sk-toggleable__label-arrow:hover:before {\n",
              "  color: var(--sklearn-color-text);\n",
              "}\n",
              "\n",
              "/* Toggleable content - dropdown */\n",
              "\n",
              "#sk-container-id-5 div.sk-toggleable__content {\n",
              "  max-height: 0;\n",
              "  max-width: 0;\n",
              "  overflow: hidden;\n",
              "  text-align: left;\n",
              "  /* unfitted */\n",
              "  background-color: var(--sklearn-color-unfitted-level-0);\n",
              "}\n",
              "\n",
              "#sk-container-id-5 div.sk-toggleable__content.fitted {\n",
              "  /* fitted */\n",
              "  background-color: var(--sklearn-color-fitted-level-0);\n",
              "}\n",
              "\n",
              "#sk-container-id-5 div.sk-toggleable__content pre {\n",
              "  margin: 0.2em;\n",
              "  border-radius: 0.25em;\n",
              "  color: var(--sklearn-color-text);\n",
              "  /* unfitted */\n",
              "  background-color: var(--sklearn-color-unfitted-level-0);\n",
              "}\n",
              "\n",
              "#sk-container-id-5 div.sk-toggleable__content.fitted pre {\n",
              "  /* unfitted */\n",
              "  background-color: var(--sklearn-color-fitted-level-0);\n",
              "}\n",
              "\n",
              "#sk-container-id-5 input.sk-toggleable__control:checked~div.sk-toggleable__content {\n",
              "  /* Expand drop-down */\n",
              "  max-height: 200px;\n",
              "  max-width: 100%;\n",
              "  overflow: auto;\n",
              "}\n",
              "\n",
              "#sk-container-id-5 input.sk-toggleable__control:checked~label.sk-toggleable__label-arrow:before {\n",
              "  content: \"▾\";\n",
              "}\n",
              "\n",
              "/* Pipeline/ColumnTransformer-specific style */\n",
              "\n",
              "#sk-container-id-5 div.sk-label input.sk-toggleable__control:checked~label.sk-toggleable__label {\n",
              "  color: var(--sklearn-color-text);\n",
              "  background-color: var(--sklearn-color-unfitted-level-2);\n",
              "}\n",
              "\n",
              "#sk-container-id-5 div.sk-label.fitted input.sk-toggleable__control:checked~label.sk-toggleable__label {\n",
              "  background-color: var(--sklearn-color-fitted-level-2);\n",
              "}\n",
              "\n",
              "/* Estimator-specific style */\n",
              "\n",
              "/* Colorize estimator box */\n",
              "#sk-container-id-5 div.sk-estimator input.sk-toggleable__control:checked~label.sk-toggleable__label {\n",
              "  /* unfitted */\n",
              "  background-color: var(--sklearn-color-unfitted-level-2);\n",
              "}\n",
              "\n",
              "#sk-container-id-5 div.sk-estimator.fitted input.sk-toggleable__control:checked~label.sk-toggleable__label {\n",
              "  /* fitted */\n",
              "  background-color: var(--sklearn-color-fitted-level-2);\n",
              "}\n",
              "\n",
              "#sk-container-id-5 div.sk-label label.sk-toggleable__label,\n",
              "#sk-container-id-5 div.sk-label label {\n",
              "  /* The background is the default theme color */\n",
              "  color: var(--sklearn-color-text-on-default-background);\n",
              "}\n",
              "\n",
              "/* On hover, darken the color of the background */\n",
              "#sk-container-id-5 div.sk-label:hover label.sk-toggleable__label {\n",
              "  color: var(--sklearn-color-text);\n",
              "  background-color: var(--sklearn-color-unfitted-level-2);\n",
              "}\n",
              "\n",
              "/* Label box, darken color on hover, fitted */\n",
              "#sk-container-id-5 div.sk-label.fitted:hover label.sk-toggleable__label.fitted {\n",
              "  color: var(--sklearn-color-text);\n",
              "  background-color: var(--sklearn-color-fitted-level-2);\n",
              "}\n",
              "\n",
              "/* Estimator label */\n",
              "\n",
              "#sk-container-id-5 div.sk-label label {\n",
              "  font-family: monospace;\n",
              "  font-weight: bold;\n",
              "  display: inline-block;\n",
              "  line-height: 1.2em;\n",
              "}\n",
              "\n",
              "#sk-container-id-5 div.sk-label-container {\n",
              "  text-align: center;\n",
              "}\n",
              "\n",
              "/* Estimator-specific */\n",
              "#sk-container-id-5 div.sk-estimator {\n",
              "  font-family: monospace;\n",
              "  border: 1px dotted var(--sklearn-color-border-box);\n",
              "  border-radius: 0.25em;\n",
              "  box-sizing: border-box;\n",
              "  margin-bottom: 0.5em;\n",
              "  /* unfitted */\n",
              "  background-color: var(--sklearn-color-unfitted-level-0);\n",
              "}\n",
              "\n",
              "#sk-container-id-5 div.sk-estimator.fitted {\n",
              "  /* fitted */\n",
              "  background-color: var(--sklearn-color-fitted-level-0);\n",
              "}\n",
              "\n",
              "/* on hover */\n",
              "#sk-container-id-5 div.sk-estimator:hover {\n",
              "  /* unfitted */\n",
              "  background-color: var(--sklearn-color-unfitted-level-2);\n",
              "}\n",
              "\n",
              "#sk-container-id-5 div.sk-estimator.fitted:hover {\n",
              "  /* fitted */\n",
              "  background-color: var(--sklearn-color-fitted-level-2);\n",
              "}\n",
              "\n",
              "/* Specification for estimator info (e.g. \"i\" and \"?\") */\n",
              "\n",
              "/* Common style for \"i\" and \"?\" */\n",
              "\n",
              ".sk-estimator-doc-link,\n",
              "a:link.sk-estimator-doc-link,\n",
              "a:visited.sk-estimator-doc-link {\n",
              "  float: right;\n",
              "  font-size: smaller;\n",
              "  line-height: 1em;\n",
              "  font-family: monospace;\n",
              "  background-color: var(--sklearn-color-background);\n",
              "  border-radius: 1em;\n",
              "  height: 1em;\n",
              "  width: 1em;\n",
              "  text-decoration: none !important;\n",
              "  margin-left: 1ex;\n",
              "  /* unfitted */\n",
              "  border: var(--sklearn-color-unfitted-level-1) 1pt solid;\n",
              "  color: var(--sklearn-color-unfitted-level-1);\n",
              "}\n",
              "\n",
              ".sk-estimator-doc-link.fitted,\n",
              "a:link.sk-estimator-doc-link.fitted,\n",
              "a:visited.sk-estimator-doc-link.fitted {\n",
              "  /* fitted */\n",
              "  border: var(--sklearn-color-fitted-level-1) 1pt solid;\n",
              "  color: var(--sklearn-color-fitted-level-1);\n",
              "}\n",
              "\n",
              "/* On hover */\n",
              "div.sk-estimator:hover .sk-estimator-doc-link:hover,\n",
              ".sk-estimator-doc-link:hover,\n",
              "div.sk-label-container:hover .sk-estimator-doc-link:hover,\n",
              ".sk-estimator-doc-link:hover {\n",
              "  /* unfitted */\n",
              "  background-color: var(--sklearn-color-unfitted-level-3);\n",
              "  color: var(--sklearn-color-background);\n",
              "  text-decoration: none;\n",
              "}\n",
              "\n",
              "div.sk-estimator.fitted:hover .sk-estimator-doc-link.fitted:hover,\n",
              ".sk-estimator-doc-link.fitted:hover,\n",
              "div.sk-label-container:hover .sk-estimator-doc-link.fitted:hover,\n",
              ".sk-estimator-doc-link.fitted:hover {\n",
              "  /* fitted */\n",
              "  background-color: var(--sklearn-color-fitted-level-3);\n",
              "  color: var(--sklearn-color-background);\n",
              "  text-decoration: none;\n",
              "}\n",
              "\n",
              "/* Span, style for the box shown on hovering the info icon */\n",
              ".sk-estimator-doc-link span {\n",
              "  display: none;\n",
              "  z-index: 9999;\n",
              "  position: relative;\n",
              "  font-weight: normal;\n",
              "  right: .2ex;\n",
              "  padding: .5ex;\n",
              "  margin: .5ex;\n",
              "  width: min-content;\n",
              "  min-width: 20ex;\n",
              "  max-width: 50ex;\n",
              "  color: var(--sklearn-color-text);\n",
              "  box-shadow: 2pt 2pt 4pt #999;\n",
              "  /* unfitted */\n",
              "  background: var(--sklearn-color-unfitted-level-0);\n",
              "  border: .5pt solid var(--sklearn-color-unfitted-level-3);\n",
              "}\n",
              "\n",
              ".sk-estimator-doc-link.fitted span {\n",
              "  /* fitted */\n",
              "  background: var(--sklearn-color-fitted-level-0);\n",
              "  border: var(--sklearn-color-fitted-level-3);\n",
              "}\n",
              "\n",
              ".sk-estimator-doc-link:hover span {\n",
              "  display: block;\n",
              "}\n",
              "\n",
              "/* \"?\"-specific style due to the `<a>` HTML tag */\n",
              "\n",
              "#sk-container-id-5 a.estimator_doc_link {\n",
              "  float: right;\n",
              "  font-size: 1rem;\n",
              "  line-height: 1em;\n",
              "  font-family: monospace;\n",
              "  background-color: var(--sklearn-color-background);\n",
              "  border-radius: 1rem;\n",
              "  height: 1rem;\n",
              "  width: 1rem;\n",
              "  text-decoration: none;\n",
              "  /* unfitted */\n",
              "  color: var(--sklearn-color-unfitted-level-1);\n",
              "  border: var(--sklearn-color-unfitted-level-1) 1pt solid;\n",
              "}\n",
              "\n",
              "#sk-container-id-5 a.estimator_doc_link.fitted {\n",
              "  /* fitted */\n",
              "  border: var(--sklearn-color-fitted-level-1) 1pt solid;\n",
              "  color: var(--sklearn-color-fitted-level-1);\n",
              "}\n",
              "\n",
              "/* On hover */\n",
              "#sk-container-id-5 a.estimator_doc_link:hover {\n",
              "  /* unfitted */\n",
              "  background-color: var(--sklearn-color-unfitted-level-3);\n",
              "  color: var(--sklearn-color-background);\n",
              "  text-decoration: none;\n",
              "}\n",
              "\n",
              "#sk-container-id-5 a.estimator_doc_link.fitted:hover {\n",
              "  /* fitted */\n",
              "  background-color: var(--sklearn-color-fitted-level-3);\n",
              "}\n",
              "</style><div id=\"sk-container-id-5\" class=\"sk-top-container\"><div class=\"sk-text-repr-fallback\"><pre>DecisionTreeClassifier()</pre><b>In a Jupyter environment, please rerun this cell to show the HTML representation or trust the notebook. <br />On GitHub, the HTML representation is unable to render, please try loading this page with nbviewer.org.</b></div><div class=\"sk-container\" hidden><div class=\"sk-item\"><div class=\"sk-estimator fitted sk-toggleable\"><input class=\"sk-toggleable__control sk-hidden--visually\" id=\"sk-estimator-id-7\" type=\"checkbox\" checked><label for=\"sk-estimator-id-7\" class=\"sk-toggleable__label fitted sk-toggleable__label-arrow fitted\">&nbsp;&nbsp;DecisionTreeClassifier<a class=\"sk-estimator-doc-link fitted\" rel=\"noreferrer\" target=\"_blank\" href=\"https://scikit-learn.org/1.5/modules/generated/sklearn.tree.DecisionTreeClassifier.html\">?<span>Documentation for DecisionTreeClassifier</span></a><span class=\"sk-estimator-doc-link fitted\">i<span>Fitted</span></span></label><div class=\"sk-toggleable__content fitted\"><pre>DecisionTreeClassifier()</pre></div> </div></div></div></div>"
            ],
            "text/plain": [
              "DecisionTreeClassifier()"
            ]
          },
          "execution_count": 143,
          "metadata": {},
          "output_type": "execute_result"
        }
      ],
      "source": [
        "from sklearn.tree import DecisionTreeClassifier\n",
        "\n",
        "tree_clf = DecisionTreeClassifier()\n",
        "\n",
        "tree_clf.fit(car_train_prepared, car_labels_prepared)"
      ]
    },
    {
      "cell_type": "markdown",
      "id": "757c0a01",
      "metadata": {
        "id": "757c0a01"
      },
      "source": [
        "Let's train the same model on the scaled data."
      ]
    },
    {
      "cell_type": "code",
      "execution_count": null,
      "id": "9e0e5e9b",
      "metadata": {
        "scrolled": true,
        "id": "9e0e5e9b",
        "outputId": "fd63e594-3088-4df7-ff00-2ac8ea89b079"
      },
      "outputs": [
        {
          "name": "stdout",
          "output_type": "stream",
          "text": [
            "|--- feature_3 <= 0.50\n",
            "|   |--- class: 1\n",
            "|--- feature_3 >  0.50\n",
            "|   |--- feature_5 <= 0.50\n",
            "|   |   |--- feature_0 <= 2.50\n",
            "|   |   |   |--- feature_1 <= 2.50\n",
            "|   |   |   |   |--- feature_2 <= 0.50\n",
            "|   |   |   |   |   |--- feature_4 <= 1.50\n",
            "|   |   |   |   |   |   |--- class: 0\n",
            "|   |   |   |   |   |--- feature_4 >  1.50\n",
            "|   |   |   |   |   |   |--- feature_3 <= 1.50\n",
            "|   |   |   |   |   |   |   |--- class: 0\n",
            "|   |   |   |   |   |   |--- feature_3 >  1.50\n",
            "|   |   |   |   |   |   |   |--- class: 1\n",
            "|   |   |   |   |--- feature_2 >  0.50\n",
            "|   |   |   |   |   |--- class: 0\n",
            "|   |   |   |--- feature_1 >  2.50\n",
            "|   |   |   |   |--- feature_0 <= 0.50\n",
            "|   |   |   |   |   |--- class: 1\n",
            "|   |   |   |   |--- feature_0 >  0.50\n",
            "|   |   |   |   |   |--- feature_2 <= 0.50\n",
            "|   |   |   |   |   |   |--- feature_4 <= 1.50\n",
            "|   |   |   |   |   |   |   |--- class: 0\n",
            "|   |   |   |   |   |   |--- feature_4 >  1.50\n",
            "|   |   |   |   |   |   |   |--- feature_3 <= 1.50\n",
            "|   |   |   |   |   |   |   |   |--- class: 0\n",
            "|   |   |   |   |   |   |   |--- feature_3 >  1.50\n",
            "|   |   |   |   |   |   |   |   |--- class: 1\n",
            "|   |   |   |   |   |--- feature_2 >  0.50\n",
            "|   |   |   |   |   |   |--- class: 0\n",
            "|   |   |--- feature_0 >  2.50\n",
            "|   |   |   |--- feature_1 <= 0.50\n",
            "|   |   |   |   |--- class: 1\n",
            "|   |   |   |--- feature_1 >  0.50\n",
            "|   |   |   |   |--- feature_1 <= 2.50\n",
            "|   |   |   |   |   |--- feature_4 <= 1.50\n",
            "|   |   |   |   |   |   |--- class: 0\n",
            "|   |   |   |   |   |--- feature_4 >  1.50\n",
            "|   |   |   |   |   |   |--- feature_2 <= 0.50\n",
            "|   |   |   |   |   |   |   |--- feature_3 <= 1.50\n",
            "|   |   |   |   |   |   |   |   |--- class: 0\n",
            "|   |   |   |   |   |   |   |--- feature_3 >  1.50\n",
            "|   |   |   |   |   |   |   |   |--- class: 1\n",
            "|   |   |   |   |   |   |--- feature_2 >  0.50\n",
            "|   |   |   |   |   |   |   |--- class: 0\n",
            "|   |   |   |   |--- feature_1 >  2.50\n",
            "|   |   |   |   |   |--- class: 1\n",
            "|   |--- feature_5 >  0.50\n",
            "|   |   |--- feature_5 <= 1.50\n",
            "|   |   |   |--- class: 1\n",
            "|   |   |--- feature_5 >  1.50\n",
            "|   |   |   |--- feature_4 <= 1.50\n",
            "|   |   |   |   |--- feature_1 <= 2.50\n",
            "|   |   |   |   |   |--- feature_0 <= 2.50\n",
            "|   |   |   |   |   |   |--- feature_2 <= 1.50\n",
            "|   |   |   |   |   |   |   |--- feature_4 <= 0.50\n",
            "|   |   |   |   |   |   |   |   |--- class: 0\n",
            "|   |   |   |   |   |   |   |--- feature_4 >  0.50\n",
            "|   |   |   |   |   |   |   |   |--- feature_0 <= 0.50\n",
            "|   |   |   |   |   |   |   |   |   |--- feature_3 <= 1.50\n",
            "|   |   |   |   |   |   |   |   |   |   |--- class: 1\n",
            "|   |   |   |   |   |   |   |   |   |--- feature_3 >  1.50\n",
            "|   |   |   |   |   |   |   |   |   |   |--- feature_2 <= 0.50\n",
            "|   |   |   |   |   |   |   |   |   |   |   |--- class: 1\n",
            "|   |   |   |   |   |   |   |   |   |   |--- feature_2 >  0.50\n",
            "|   |   |   |   |   |   |   |   |   |   |   |--- class: 0\n",
            "|   |   |   |   |   |   |   |   |--- feature_0 >  0.50\n",
            "|   |   |   |   |   |   |   |   |   |--- feature_1 <= 0.50\n",
            "|   |   |   |   |   |   |   |   |   |   |--- feature_0 <= 1.50\n",
            "|   |   |   |   |   |   |   |   |   |   |   |--- class: 0\n",
            "|   |   |   |   |   |   |   |   |   |   |--- feature_0 >  1.50\n",
            "|   |   |   |   |   |   |   |   |   |   |   |--- truncated branch of depth 2\n",
            "|   |   |   |   |   |   |   |   |   |--- feature_1 >  0.50\n",
            "|   |   |   |   |   |   |   |   |   |   |--- class: 0\n",
            "|   |   |   |   |   |   |--- feature_2 >  1.50\n",
            "|   |   |   |   |   |   |   |--- class: 0\n",
            "|   |   |   |   |   |--- feature_0 >  2.50\n",
            "|   |   |   |   |   |   |--- feature_1 <= 0.50\n",
            "|   |   |   |   |   |   |   |--- class: 1\n",
            "|   |   |   |   |   |   |--- feature_1 >  0.50\n",
            "|   |   |   |   |   |   |   |--- feature_4 <= 0.50\n",
            "|   |   |   |   |   |   |   |   |--- class: 0\n",
            "|   |   |   |   |   |   |   |--- feature_4 >  0.50\n",
            "|   |   |   |   |   |   |   |   |--- feature_2 <= 1.50\n",
            "|   |   |   |   |   |   |   |   |   |--- feature_3 <= 1.50\n",
            "|   |   |   |   |   |   |   |   |   |   |--- class: 1\n",
            "|   |   |   |   |   |   |   |   |   |--- feature_3 >  1.50\n",
            "|   |   |   |   |   |   |   |   |   |   |--- feature_2 <= 0.50\n",
            "|   |   |   |   |   |   |   |   |   |   |   |--- class: 1\n",
            "|   |   |   |   |   |   |   |   |   |   |--- feature_2 >  0.50\n",
            "|   |   |   |   |   |   |   |   |   |   |   |--- class: 0\n",
            "|   |   |   |   |   |   |   |   |--- feature_2 >  1.50\n",
            "|   |   |   |   |   |   |   |   |   |--- class: 0\n",
            "|   |   |   |   |--- feature_1 >  2.50\n",
            "|   |   |   |   |   |--- feature_0 <= 0.50\n",
            "|   |   |   |   |   |   |--- class: 1\n",
            "|   |   |   |   |   |--- feature_0 >  0.50\n",
            "|   |   |   |   |   |   |--- feature_0 <= 2.50\n",
            "|   |   |   |   |   |   |   |--- feature_2 <= 1.50\n",
            "|   |   |   |   |   |   |   |   |--- feature_4 <= 0.50\n",
            "|   |   |   |   |   |   |   |   |   |--- class: 0\n",
            "|   |   |   |   |   |   |   |   |--- feature_4 >  0.50\n",
            "|   |   |   |   |   |   |   |   |   |--- class: 1\n",
            "|   |   |   |   |   |   |   |--- feature_2 >  1.50\n",
            "|   |   |   |   |   |   |   |   |--- class: 0\n",
            "|   |   |   |   |   |   |--- feature_0 >  2.50\n",
            "|   |   |   |   |   |   |   |--- class: 1\n",
            "|   |   |   |--- feature_4 >  1.50\n",
            "|   |   |   |   |--- feature_0 <= 0.50\n",
            "|   |   |   |   |   |--- class: 1\n",
            "|   |   |   |   |--- feature_0 >  0.50\n",
            "|   |   |   |   |   |--- feature_0 <= 2.50\n",
            "|   |   |   |   |   |   |--- feature_1 <= 2.50\n",
            "|   |   |   |   |   |   |   |--- feature_1 <= 0.50\n",
            "|   |   |   |   |   |   |   |   |--- feature_0 <= 1.50\n",
            "|   |   |   |   |   |   |   |   |   |--- feature_2 <= 0.50\n",
            "|   |   |   |   |   |   |   |   |   |   |--- class: 1\n",
            "|   |   |   |   |   |   |   |   |   |--- feature_2 >  0.50\n",
            "|   |   |   |   |   |   |   |   |   |   |--- class: 0\n",
            "|   |   |   |   |   |   |   |   |--- feature_0 >  1.50\n",
            "|   |   |   |   |   |   |   |   |   |--- class: 1\n",
            "|   |   |   |   |   |   |   |--- feature_1 >  0.50\n",
            "|   |   |   |   |   |   |   |   |--- feature_2 <= 0.50\n",
            "|   |   |   |   |   |   |   |   |   |--- feature_3 <= 1.50\n",
            "|   |   |   |   |   |   |   |   |   |   |--- class: 0\n",
            "|   |   |   |   |   |   |   |   |   |--- feature_3 >  1.50\n",
            "|   |   |   |   |   |   |   |   |   |   |--- class: 1\n",
            "|   |   |   |   |   |   |   |   |--- feature_2 >  0.50\n",
            "|   |   |   |   |   |   |   |   |   |--- class: 0\n",
            "|   |   |   |   |   |   |--- feature_1 >  2.50\n",
            "|   |   |   |   |   |   |   |--- class: 1\n",
            "|   |   |   |   |   |--- feature_0 >  2.50\n",
            "|   |   |   |   |   |   |--- class: 1\n",
            "\n"
          ]
        }
      ],
      "source": [
        "from sklearn.tree import DecisionTreeClassifier\n",
        "from sklearn.tree import export_text\n",
        "text_representation = export_text(tree_clf)\n",
        "print(text_representation)"
      ]
    },
    {
      "cell_type": "code",
      "execution_count": null,
      "id": "ea28474e",
      "metadata": {
        "id": "ea28474e"
      },
      "outputs": [],
      "source": [
        "# if you run this, it will be error.\n",
        "# SKlearn tree implementation doesn't support categorical features\n",
        "\n",
        "#from sklearn.tree import DecisionTreeClassifier\n",
        "\n",
        "#tree_clf = DecisionTreeClassifier()\n",
        "\n",
        "#tree_clf.fit(car_train, car_labels)"
      ]
    },
    {
      "cell_type": "markdown",
      "id": "9afb9bde",
      "metadata": {
        "id": "9afb9bde"
      },
      "source": [
        "<a name='6'></a>\n",
        "\n",
        "## 6 - Evaluating Decision Trees\n",
        "\n",
        "Let's build 3 functions to display accuracy, confusion matrix,<br> and classification report. Classification report contains all <br>useful metrics such as precision, recall, and f1 score."
      ]
    },
    {
      "cell_type": "code",
      "execution_count": null,
      "id": "6962359e",
      "metadata": {
        "id": "6962359e"
      },
      "outputs": [],
      "source": [
        "from sklearn.metrics import accuracy_score\n",
        "\n",
        "def accuracy(input_data,model,labels):\n",
        "    \"\"\"\n",
        "    Take the input data, model and labels and\n",
        "    return accuracy\n",
        "    \"\"\"\n",
        "    preds = model.predict(input_data)\n",
        "    acc = accuracy_score(labels,preds)\n",
        "    return acc"
      ]
    },
    {
      "cell_type": "code",
      "execution_count": null,
      "id": "5321beb0",
      "metadata": {
        "id": "5321beb0"
      },
      "outputs": [],
      "source": [
        "from sklearn.metrics import confusion_matrix\n",
        "\n",
        "def conf_matrix(input_data,model,labels):\n",
        "    \"\"\"\n",
        "    Take the input data, model and labels and return confusion matrix\n",
        "    \"\"\"\n",
        "    preds = model.predict(input_data)\n",
        "    cm = confusion_matrix(labels,preds)\n",
        "\n",
        "    return cm"
      ]
    },
    {
      "cell_type": "code",
      "execution_count": null,
      "id": "12b6e547",
      "metadata": {
        "id": "12b6e547"
      },
      "outputs": [],
      "source": [
        "from sklearn.metrics import classification_report\n",
        "\n",
        "def class_report(input_data,model,labels):\n",
        "    \"\"\"\n",
        "    Take the input data, model and labels and return classification report\n",
        "    \"\"\"\n",
        "    preds = model.predict(input_data)\n",
        "    report = classification_report(labels,preds)\n",
        "    report = print(report)\n",
        "\n",
        "    return report"
      ]
    },
    {
      "cell_type": "markdown",
      "id": "0a052ed6",
      "metadata": {
        "id": "0a052ed6"
      },
      "source": [
        "Let's find the accuracy on the training set."
      ]
    },
    {
      "cell_type": "code",
      "execution_count": null,
      "id": "a17fed16",
      "metadata": {
        "id": "a17fed16",
        "outputId": "e33e47ea-1c79-43ae-d94e-aac157838e8c"
      },
      "outputs": [
        {
          "data": {
            "text/plain": [
              "1.0"
            ]
          },
          "execution_count": 149,
          "metadata": {},
          "output_type": "execute_result"
        }
      ],
      "source": [
        "accuracy(car_train_prepared, tree_clf, car_labels_prepared)"
      ]
    },
    {
      "cell_type": "markdown",
      "id": "fbeda399",
      "metadata": {
        "id": "fbeda399"
      },
      "source": [
        "Ohh, see! The decision trees overfitted the dataset.<br> Also if we remember well, our data is not balanced.<br> We have many positive examples than negative examples."
      ]
    },
    {
      "cell_type": "code",
      "execution_count": null,
      "id": "b7b71a96",
      "metadata": {
        "id": "b7b71a96",
        "outputId": "e293acf4-ba80-45fe-b618-c70016f658e8"
      },
      "outputs": [
        {
          "data": {
            "text/plain": [
              "array([[360,   0],\n",
              "       [  0, 849]])"
            ]
          },
          "execution_count": 150,
          "metadata": {},
          "output_type": "execute_result"
        }
      ],
      "source": [
        "conf_matrix(car_train_prepared, tree_clf, car_labels_prepared)"
      ]
    },
    {
      "cell_type": "code",
      "execution_count": null,
      "id": "1e7d0797",
      "metadata": {
        "id": "1e7d0797",
        "outputId": "da28b05e-2e2b-487f-de1c-f6a730cf3dc8"
      },
      "outputs": [
        {
          "name": "stdout",
          "output_type": "stream",
          "text": [
            "              precision    recall  f1-score   support\n",
            "\n",
            "           0       1.00      1.00      1.00       360\n",
            "           1       1.00      1.00      1.00       849\n",
            "\n",
            "    accuracy                           1.00      1209\n",
            "   macro avg       1.00      1.00      1.00      1209\n",
            "weighted avg       1.00      1.00      1.00      1209\n",
            "\n"
          ]
        }
      ],
      "source": [
        "class_report(car_train_prepared, tree_clf, car_labels_prepared)"
      ]
    },
    {
      "cell_type": "markdown",
      "id": "54f6022d",
      "metadata": {
        "id": "54f6022d"
      },
      "source": [
        "The model clearly overfitted the data. Let's see how we can regularize it."
      ]
    },
    {
      "cell_type": "markdown",
      "id": "66a574a5",
      "metadata": {
        "id": "66a574a5"
      },
      "source": [
        "<a name='7'></a>\n",
        "\n",
        "## 7 - Improving Decision Trees"
      ]
    },
    {
      "cell_type": "code",
      "execution_count": null,
      "id": "0f92566d",
      "metadata": {
        "id": "0f92566d",
        "outputId": "571422be-ac82-48b6-f0e6-bfdeb05524ae"
      },
      "outputs": [
        {
          "data": {
            "text/plain": [
              "{'ccp_alpha': 0.0,\n",
              " 'class_weight': None,\n",
              " 'criterion': 'gini',\n",
              " 'max_depth': None,\n",
              " 'max_features': None,\n",
              " 'max_leaf_nodes': None,\n",
              " 'min_impurity_decrease': 0.0,\n",
              " 'min_samples_leaf': 1,\n",
              " 'min_samples_split': 2,\n",
              " 'min_weight_fraction_leaf': 0.0,\n",
              " 'monotonic_cst': None,\n",
              " 'random_state': None,\n",
              " 'splitter': 'best'}"
            ]
          },
          "execution_count": 152,
          "metadata": {},
          "output_type": "execute_result"
        }
      ],
      "source": [
        "tree_clf.get_params()"
      ]
    },
    {
      "cell_type": "markdown",
      "id": "af110f75",
      "metadata": {
        "id": "af110f75"
      },
      "source": [
        "One way to avoid overfitting is reduce number maximum depth of the tree, set by the hyperparameter `max_depth`. Similarly, we can attempt to reduce all hyperparameters with `max`term while also increasing the `min_` term parameters.\n",
        "\n",
        "Also, I set the `class_weight` to `balanced` because our dataset is imbalanced. By setting it to balanced, the model will automatically adjust the class weight based on the number of available samples in all classes.\n",
        "\n",
        "\n",
        "Let's use GridSearch to find best values of these hyperparameters."
      ]
    },
    {
      "cell_type": "code",
      "execution_count": null,
      "id": "18f52052",
      "metadata": {
        "id": "18f52052"
      },
      "outputs": [],
      "source": [
        "# Let's hide warnings returned by grid search\n",
        "\n",
        "import warnings\n",
        "warnings.filterwarnings('ignore')"
      ]
    },
    {
      "cell_type": "code",
      "execution_count": null,
      "id": "056818ed",
      "metadata": {
        "id": "056818ed",
        "outputId": "07411eef-b494-4d08-ec6b-e5e5b70fde1f"
      },
      "outputs": [
        {
          "name": "stdout",
          "output_type": "stream",
          "text": [
            "Fitting 3 folds for each of 5400 candidates, totalling 16200 fits\n"
          ]
        }
      ],
      "source": [
        "from sklearn.model_selection import GridSearchCV\n",
        "\n",
        "params_grid = {'max_leaf_nodes': list(range(0, 10)),\n",
        "               'min_samples_split': [0,1,2, 3, 4],\n",
        "               'min_samples_leaf': [0,1,2, 3, 4],\n",
        "               'max_depth':[0,1,2,3,4,5],\n",
        "               'max_features':[0,1,2,3,4,5],\n",
        "              'max_leaf_nodes':[0,1,2,3,4,5]}\n",
        "\n",
        "#refit is true by default. The best estimator is trained on the whole dataset\n",
        "\n",
        "grid_search = GridSearchCV(DecisionTreeClassifier(random_state=42, class_weight='balanced'), params_grid, verbose=1, cv=3, refit=True)\n",
        "\n",
        "grid_search.fit(car_train_prepared, car_labels_prepared)"
      ]
    },
    {
      "cell_type": "code",
      "execution_count": null,
      "id": "55a5d7f3",
      "metadata": {
        "id": "55a5d7f3"
      },
      "outputs": [],
      "source": [
        "grid_search.best_params_"
      ]
    },
    {
      "cell_type": "code",
      "execution_count": null,
      "id": "c4a1488d",
      "metadata": {
        "id": "c4a1488d"
      },
      "outputs": [],
      "source": [
        "grid_search.best_estimator_"
      ]
    },
    {
      "cell_type": "code",
      "execution_count": null,
      "id": "4995ab2d",
      "metadata": {
        "id": "4995ab2d"
      },
      "outputs": [],
      "source": [
        "tree_best = grid_search.best_estimator_"
      ]
    },
    {
      "cell_type": "markdown",
      "id": "0631c68d",
      "metadata": {
        "id": "0631c68d"
      },
      "source": [
        "We can also plot the tree of the improved model."
      ]
    },
    {
      "cell_type": "code",
      "execution_count": null,
      "id": "bb3a6292",
      "metadata": {
        "id": "bb3a6292"
      },
      "outputs": [],
      "source": [
        "car_data.columns"
      ]
    },
    {
      "cell_type": "code",
      "execution_count": null,
      "id": "bc930bc3",
      "metadata": {
        "id": "bc930bc3"
      },
      "outputs": [],
      "source": [
        "from sklearn.tree import plot_tree\n",
        "\n",
        "plt.figure(figsize=(10,10))\n",
        "plot_tree(tree_best, feature_names=car_train.columns, class_names=['N','P']);"
      ]
    },
    {
      "cell_type": "markdown",
      "id": "44fc64ef",
      "metadata": {
        "id": "44fc64ef"
      },
      "source": [
        "Let's make prediction on the training data again."
      ]
    },
    {
      "cell_type": "code",
      "execution_count": null,
      "id": "85b1b211",
      "metadata": {
        "id": "85b1b211"
      },
      "outputs": [],
      "source": [
        "accuracy(car_train_prepared, tree_best, car_labels_prepared)"
      ]
    },
    {
      "cell_type": "code",
      "execution_count": null,
      "id": "d6e03505",
      "metadata": {
        "id": "d6e03505"
      },
      "outputs": [],
      "source": [
        "conf_matrix(car_train_prepared, tree_best, car_labels_prepared)"
      ]
    },
    {
      "cell_type": "markdown",
      "id": "5fd20f6c",
      "metadata": {
        "id": "5fd20f6c"
      },
      "source": [
        "In confusion matrix, each row represent an actual class and each column represents predicted class.\n",
        "\n",
        "So, from the results above:\n",
        "\n",
        "* 430 negative examples(N) were correcty predicted as negatives(`true negatives`).\n",
        "* 28 negatives examples(N) were incorrectly classified as positive examples when they are in fact negatives(`false positives`).\n",
        "* 139 positive examples were incorrectly classified as negative(N) when in fact they are positives(P) (`false negatives`).\n",
        "* 958 were correctly classified as positive examples(`true positives`)."
      ]
    },
    {
      "cell_type": "code",
      "execution_count": null,
      "id": "bfe10646",
      "metadata": {
        "id": "bfe10646"
      },
      "outputs": [],
      "source": [
        "class_report(car_train_prepared, tree_best, car_labels_prepared)"
      ]
    },
    {
      "cell_type": "markdown",
      "id": "c62a574a",
      "metadata": {
        "id": "c62a574a"
      },
      "source": [
        "Wow, this is much better. By only setting the class weight to `balanced` and finding the best values of the hyperparameters, we were able to improve our model.\n",
        "\n",
        "If you remember, the negative class has fewer examples than the positive classes. You can see them in `support` in classification report. But our model is able to identify them correctly at 76%, and also is able to identify the positive examples at 97% without overfitting. That is precision.\n",
        "\n",
        "A few notes about Precison/Recall/F1 score:\n",
        "\n",
        "* Precision is the model accuracy on predicting positive examples correctly.\n",
        "* Recall is the ratio of the positive examples that are correctly identified by the model.\n",
        "\n",
        "* F1 score is the harmonic mean of precision and recall.\n",
        "\n",
        "The higher the precision and recall are, the higher the F1 score. But there is a tradeoff between them. Increasing precision will reduce recall, and vice versa. So it's fair to say that it depends on the problem you're trying to solve and the metrics you want to optimize for.\n"
      ]
    },
    {
      "cell_type": "markdown",
      "id": "d96d0b2f",
      "metadata": {
        "id": "d96d0b2f"
      },
      "source": [
        "### Evaluating the model on the test set"
      ]
    },
    {
      "cell_type": "markdown",
      "id": "21d18db2",
      "metadata": {
        "id": "21d18db2"
      },
      "source": [
        "It is only after we have improved the model that we can feed it to the test set. If we try to show the test set to the model while we are still training, we may cause a potential leak thus producing misleading predictions.\n",
        "\n",
        "Also, we will apply the same processing functions that we applied to the training set."
      ]
    },
    {
      "cell_type": "code",
      "execution_count": null,
      "id": "3e4f6abb",
      "metadata": {
        "id": "3e4f6abb"
      },
      "outputs": [],
      "source": [
        "car_test = test_data.drop('binaryClass', axis=1)\n",
        "car_test_labels = test_data['binaryClass']"
      ]
    },
    {
      "cell_type": "code",
      "execution_count": null,
      "id": "18686a6d",
      "metadata": {
        "id": "18686a6d"
      },
      "outputs": [],
      "source": [
        "# Handling the categorical features with the pipeline that we defined early\n",
        "# We don't fit on the test data. Only transform\n",
        "\n",
        "car_test_prepared = pipe.transform(car_test)"
      ]
    },
    {
      "cell_type": "code",
      "execution_count": null,
      "id": "4e320e33",
      "metadata": {
        "id": "4e320e33"
      },
      "outputs": [],
      "source": [
        "# Handle labels too\n",
        "\n",
        "car_test_labels_prepared = label_enc.transform(car_test_labels)"
      ]
    },
    {
      "cell_type": "markdown",
      "id": "f12a3457",
      "metadata": {
        "id": "f12a3457"
      },
      "source": [
        "Now we can make predictions on the test set. We will only have to call the metrics functions we created previously."
      ]
    },
    {
      "cell_type": "code",
      "execution_count": null,
      "id": "b0ead3bd",
      "metadata": {
        "id": "b0ead3bd"
      },
      "outputs": [],
      "source": [
        "accuracy(car_test_prepared, tree_best, car_test_labels_prepared)"
      ]
    },
    {
      "cell_type": "code",
      "execution_count": null,
      "id": "8d5414f6",
      "metadata": {
        "id": "8d5414f6"
      },
      "outputs": [],
      "source": [
        "conf_matrix(car_test_prepared, tree_best, car_test_labels_prepared)"
      ]
    },
    {
      "cell_type": "code",
      "execution_count": null,
      "id": "0c63170a",
      "metadata": {
        "id": "0c63170a"
      },
      "outputs": [],
      "source": [
        "class_report(car_test_prepared, tree_best, car_test_labels_prepared)"
      ]
    },
    {
      "cell_type": "markdown",
      "id": "2c7eda1f",
      "metadata": {
        "id": "2c7eda1f"
      },
      "source": [
        "The model never saw the test set but as you can see, the results are truly remarkable. The model can generalize well on the test set and that is because we improved it in the right ways."
      ]
    },
    {
      "cell_type": "markdown",
      "id": "c7e86c6d",
      "metadata": {
        "id": "c7e86c6d"
      },
      "source": [
        "This is the end of the notebook. We have learned how to build and how to regularize( or handle overfitting) the decion trees classifier."
      ]
    },
    {
      "cell_type": "markdown",
      "id": "17af5728",
      "metadata": {
        "id": "17af5728"
      },
      "source": [
        "[Back to top](#0)"
      ]
    }
  ],
  "metadata": {
    "colab": {
      "provenance": [],
      "include_colab_link": true
    },
    "kernelspec": {
      "display_name": "Python 3 (ipykernel)",
      "language": "python",
      "name": "python3"
    },
    "language_info": {
      "codemirror_mode": {
        "name": "ipython",
        "version": 3
      },
      "file_extension": ".py",
      "mimetype": "text/x-python",
      "name": "python",
      "nbconvert_exporter": "python",
      "pygments_lexer": "ipython3",
      "version": "3.13.0"
    }
  },
  "nbformat": 4,
  "nbformat_minor": 5
}